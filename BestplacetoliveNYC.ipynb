{
 "cells": [
  {
   "cell_type": "markdown",
   "metadata": {},
   "source": [
    "# I. Short Description\n",
    "\n",
    "## Project presentation\n",
    "\n",
    "The goal of this project is to practice a NoSQL database. To achieve this objective, our project aims at exploring and querying a selection of New York open data(https://nycopendata.socrata.com/data) in order to find the best place to live in this city.\n",
    "To do so, we must have first have to choose a NoSQL database and load in it a set of open data which would allow us to answer to this question.\n",
    "\n",
    "\n",
    "## Choice of the NoSQL database\n",
    "After a quick comparison between MongoDB and Neo4j, our final choice was the document related database MongoDB. \n",
    "Indeed, several technical reasons to use MongoDB can be quoted.\n",
    "\n",
    "1. According to a link of [Linkedin](https://www.linkedin.com/pulse/real-comparison-nosql-databases-hbase-cassandra-mongodb-sahu) some of the major advantages of MongoDB are:\n",
    "* The auto sharding property which allow simplifying the scalability \n",
    "* The full index support for high performance\n",
    "* The failover property which ensures its high availability.\n",
    "    \n",
    "2. On the same link [Linkedin](https://www.linkedin.com/pulse/real-comparison-nosql-databases-hbase-cassandra-mongodb-sahu) we can see that MongoDB is used by the company [FourSquare](https://fr.foursquare.com/).Indeed, this company is a social media allowing the users to find the nearest attractive activities using a geolocation system.\n",
    "It has to be said that their problematic is similar to ours. Consequently, this observation consolidated our choice of MongoDB.\n",
    "\n",
    "3. Otherwise,since we do not need any transactional operation in our study, hence MongoDB is sufficient for our study.\n",
    "\n",
    "## Presentation of MongoDB\n",
    "\n",
    "The following table was found on this link of the [tutorialspoint.com](https://www.tutorialspoint.com/mongodb/mongodb_overview.htm). It compares the terminologies of traditional relational databases (RDBMS) and those of MongoDB.\n",
    "\n",
    "| RDBMS  |MongoDB |\n",
    "|:-:|:-:|\n",
    "|Database   | Database  |\n",
    "|  Table |Collection   |\n",
    "|  Tuple/Row |Document   |\n",
    "|column|Field |\n",
    "|Table Join|Embedded Documents\n",
    "|Primary Key |Document|\n",
    "|Primary Key |\tPrimary Key (Default key _id provided by mongodb itself)|\n",
    "\n",
    "\n",
    "## Python and libraries\n",
    "We decided to use the Python driver of MongoDB to do this project. This driver is named Pymongo and more details on it are available on this link: [api.mongodb.com](https://api.mongodb.com/python/current/).\n",
    "\n",
    "We used the notebook Jupyter provided by the Anaconda distribution of Python are:\n",
    "* [Pymongo](https://api.mongodb.com/python/current/)\n",
    "* [Geopandas](http://geopandas.org/)  for geojson files\n",
    "* [Geopy](https://geopy.readthedocs.io/en/1.10.0/)\n",
    "* [Json](https://docs.python.org/3/library/json.html)\n",
    "\n",
    "\n",
    "\n",
    "## Criteria for the best places to live in New York\n",
    "\n",
    "In our view, the best place to live must have the following characteristics:\n",
    "* **Located in Manhattan** which is well known to be a very attractive place for businesses. This point is an a priori information. This choice was motivated by this link: http://www.nycgo.com/boroughs-neighborhoods/manhattan.\n",
    "* Close to a Hospital\n",
    "* Close to a Subway station\n",
    "* Has good scores in terms of energy and water consumption\n",
    "\n",
    "To summarize the choice of our best place to live was based on \"ecological aspect of the place\", \"its proximity to some health facilities\", \"its proximity to some Subway stations\" and \"its proximity to a large set businesses opportunities\".\n",
    "\n",
    "##  Data sets \n",
    "\n",
    "To search the places which have these characteristics, we downloaded the following data sets:\n",
    "\n",
    "### Ecological aspect\n",
    "Energy and water disclosure: [Energy_and_Water_Data_Disclosure_for_Local_Law__2014_.csv](https://data.cityofnewyork.us/Environment/Energy-and-Water-Data-Disclosure-for-Local-Law-201/jzst-u7j8).\n",
    "This data provides some information about building consumption in energy and water.\n",
    "\n",
    "### Hospitals \n",
    "Information on the location and type of Hospitals in New York available through this data set: [Health_and_Hospitals_Corporation__HHC__Facilities.csv](https://data.cityofnewyork.us/Health/Health-and-Hospitals-Corporation-HHC-Facilities/f7b6-v6v3)\n",
    "\n",
    "### Subway stations\n",
    "Information about the location of Subway stations: [Subway Stations.geojson](https://data.cityofnewyork.us/Transportation/Subway-Stations/arq3-7z49)\n",
    "\n",
    "\n",
    "## MongoDB collections and Queries\n",
    "\n",
    "After installing, the MongoDB server, you must start it using the shell command: *service mongodb start*.\n",
    "Then, we must connect to the server and create the database *NY* in which will be stored the different collections.\n",
    "Globally, we created 6 collections : three of them corresponding to each of the initial data sets and three others storing the information related to the distance between the targeted addresses and Hospitals and subway stations.\n",
    "\n",
    "### Queries workflow \n",
    "\n",
    "#### First analysis: on the targeted addresses\n",
    "\n",
    "* In a first step we decided to select home located in some ecologic buildings\n",
    "\n",
    "* And which are located in the borough **Manhattan**\n",
    "\n",
    "* The Primary Property Type is: \"Multifamily Housing\" to ensure that the building is not a hotel, school etc.\n",
    "\n",
    "* ENERGY STAR Score > 75 (This value is the threshold to get the certification according this link: www.energystar.gov/\n",
    "\n",
    "* The total of CO² emission (Total GHG Emissions(MtCO2e)) must be low: less than 300 MtCO2e\n",
    "\n",
    "#### Second analysis: on the hospitals\n",
    "We selected the hospital located in **Manhattan** and then computed the distances between them and the targeted addresses (found in the previous section)\n",
    "\n",
    "#### Third analysis: on the subway stations\n",
    "We computed the distances between the subway stations and the targeted addresses (section a)\n",
    "\n",
    "#### Collection containing the useful information for our objective\n",
    "We then built a collection which stores the distance between the target addresses and hospitals and subway stations. Only hospital and subway located at a respective maximal distance equal to 1km and 500 meters are stored.\n",
    "\n",
    "#### Group the result by targeted addresses\n",
    "\n",
    "From the collection obtained in the previous section, group by targeted on the targeted homes' addresses. This allows us to find the addresses having the greatest number of choice of subway stations or hospitals."
   ]
  },
  {
   "cell_type": "markdown",
   "metadata": {},
   "source": [
    "#  II. Python Program and MongoDB queries\n"
   ]
  },
  {
   "cell_type": "code",
   "execution_count": 801,
   "metadata": {
    "collapsed": false
   },
   "outputs": [],
   "source": [
    "import pandas as pd\n",
    "import geopandas as gp\n",
    "from pymongo import MongoClient\n",
    "import numpy as np\n",
    "import pprint\n",
    "import json\n",
    "from IPython.display import display, HTML"
   ]
  },
  {
   "cell_type": "code",
   "execution_count": 802,
   "metadata": {
    "collapsed": true
   },
   "outputs": [],
   "source": [
    "import geopy"
   ]
  },
  {
   "cell_type": "markdown",
   "metadata": {},
   "source": [
    "## 1) Connection to MongoDB server\n",
    "\n",
    "This step assumes that you have already installed a MongoDB server on your computer. Once, installed, the server is launched using shell command in a terminal: *service mongodb start*. The server by default runs on the port 27017.\n",
    "\n",
    "Then, we can connect to the server by creating a MongoDB client. Once, connected to the server, we create a databe NY where we will store each of the collections (the files downloaded for the study).\n",
    "\n",
    "The creation of NY database is \"lazy\", which means that it will exist only when at least one collection containing some documents will be inserted in a its first collection."
   ]
  },
  {
   "cell_type": "code",
   "execution_count": 803,
   "metadata": {
    "collapsed": false
   },
   "outputs": [],
   "source": [
    "client = MongoClient('localhost', 27017)\n",
    "client.drop_database('NY')"
   ]
  },
  {
   "cell_type": "code",
   "execution_count": 804,
   "metadata": {
    "collapsed": false,
    "slideshow": {
     "slide_type": "subslide"
    }
   },
   "outputs": [
    {
     "data": {
      "text/plain": [
       "[]"
      ]
     },
     "execution_count": 804,
     "metadata": {},
     "output_type": "execute_result"
    }
   ],
   "source": [
    "db = client.NY\n",
    "db.collection_names()"
   ]
  },
  {
   "cell_type": "markdown",
   "metadata": {
    "collapsed": false
   },
   "source": [
    "## 2) Data Loadings"
   ]
  },
  {
   "cell_type": "markdown",
   "metadata": {},
   "source": [
    "### a. Energy and Water database"
   ]
  },
  {
   "cell_type": "code",
   "execution_count": 840,
   "metadata": {
    "collapsed": false
   },
   "outputs": [
    {
     "name": "stdout",
     "output_type": "stream",
     "text": [
      "Record Number\n",
      "NYC Borough, Block, and Lot (BBL)\n",
      "Co-reported BBL Status\n",
      "BBLs Co-reported\n",
      "Reported NYC Building Identification Numbers (BINs)\n",
      "Street Number\n",
      "Street Name\n",
      "Borough\n",
      "Zip Code\n",
      "BBL on the Covered Buildings List\n",
      "DOF Benchmarking Submission Status\n",
      "Site EUI(kBtu/ft2)\n",
      "Weather Normalized Site EUI(kBtu/ft2)\n",
      "Source EUI(kBtu/ft2)\n",
      "Weather Normalized Source EUI(kBtu/ft2)\n",
      "Municipally Supplied Potable Water - Indoor Intensity (gal/ft²)\n",
      "Automatic Water Benchmarking Eligible\n",
      "Reported Water Method\n",
      "ENERGY STAR Score\n",
      "Total GHG Emissions(MtCO2e)\n",
      "Direct GHG Emissions(MtCO2e)\n",
      "Indirect GHG Emissions(MtCO2e)\n",
      "Reported Property Floor Area (Building(s)) (ft²)\n",
      "DOF Property Floor Area (Buildngs and Parking)(ft2)\n",
      "Primary Property Type - Self Selected\n",
      "DOF Number of Buildings\n"
     ]
    }
   ],
   "source": [
    "EnergyWater = pd.read_csv(\"Energy_and_Water_Data_Disclosure_for_Local_Law__2014_.csv\")\n",
    "for i in EnergyWater.columns.values: print(i)"
   ]
  },
  {
   "cell_type": "markdown",
   "metadata": {},
   "source": [
    "### Hereafter, we implemented a function to clean the three columns in which we are intereste:\n",
    "* ENERGY STAR Score\n",
    "* Municipally Supplied Potable Water - Indoor Intensity (gal/ft²)\n",
    "* Total GHG Emissions(MtCO2e)\n"
   ]
  },
  {
   "cell_type": "code",
   "execution_count": 842,
   "metadata": {
    "collapsed": false
   },
   "outputs": [],
   "source": [
    "# Function replacing values \"Not Available\", \"See Primary BBL\" and replace NaN by 0\n",
    "# by 0 and converting strings by numerical values \n",
    "\n",
    "def from_string_to_num(df):\n",
    "    df.fillna(0,inplace=True)\n",
    "    df.replace('Not Available','0',inplace=True)\n",
    "    df.replace('See Primary BBL','0',inplace=True)\n",
    "    df_return = df.apply(pd.to_numeric, errors='ignore').astype(int)\n",
    "    return(df_return)"
   ]
  },
  {
   "cell_type": "code",
   "execution_count": 843,
   "metadata": {
    "collapsed": false
   },
   "outputs": [],
   "source": [
    "# Converting into integer the Variable Energy star Score and Municipally Supplied Potable Water\n",
    "features_to_reformat =['ENERGY STAR Score','Municipally Supplied Potable Water - Indoor Intensity (gal/ft²)',\\\n",
    "                       'Total GHG Emissions(MtCO2e)']\n",
    "# EnergyWater[features_to_reformat]=from_string_to_num(EnergyWater[features_to_reformat])\n",
    "EnergyWater[features_to_reformat] = EnergyWater[features_to_reformat] \\\n",
    "                                    .apply(lambda x : from_string_to_num(x))"
   ]
  },
  {
   "cell_type": "code",
   "execution_count": 854,
   "metadata": {
    "collapsed": false
   },
   "outputs": [
    {
     "data": {
      "text/html": [
       "<div>\n",
       "<table border=\"1\" class=\"dataframe\">\n",
       "  <thead>\n",
       "    <tr style=\"text-align: right;\">\n",
       "      <th></th>\n",
       "      <th>Addresses</th>\n",
       "      <th>Total GHG Emissions(MtCO2e)</th>\n",
       "      <th>Borough</th>\n",
       "      <th>Primary Property Type - Self Selected</th>\n",
       "      <th>ENERGY STAR Score</th>\n",
       "      <th>Municipally Supplied Potable Water - Indoor Intensity (gal/ft²)</th>\n",
       "    </tr>\n",
       "  </thead>\n",
       "  <tbody>\n",
       "    <tr>\n",
       "      <th>0</th>\n",
       "      <td>653 11 AVENUE MANHATTAN 10036</td>\n",
       "      <td>1190</td>\n",
       "      <td>MANHATTAN</td>\n",
       "      <td>Hotel</td>\n",
       "      <td>31</td>\n",
       "      <td>56</td>\n",
       "    </tr>\n",
       "    <tr>\n",
       "      <th>1</th>\n",
       "      <td>1050 RIVERSIDE DRIVE MANHATTAN 10032</td>\n",
       "      <td>4573</td>\n",
       "      <td>MANHATTAN</td>\n",
       "      <td>Office</td>\n",
       "      <td>20</td>\n",
       "      <td>0</td>\n",
       "    </tr>\n",
       "    <tr>\n",
       "      <th>2</th>\n",
       "      <td>122 WEST   27 STREET MANHATTAN 10001</td>\n",
       "      <td>698</td>\n",
       "      <td>MANHATTAN</td>\n",
       "      <td>Office</td>\n",
       "      <td>78</td>\n",
       "      <td>0</td>\n",
       "    </tr>\n",
       "  </tbody>\n",
       "</table>\n",
       "</div>"
      ],
      "text/plain": [
       "                              Addresses  Total GHG Emissions(MtCO2e)  \\\n",
       "0         653 11 AVENUE MANHATTAN 10036                         1190   \n",
       "1  1050 RIVERSIDE DRIVE MANHATTAN 10032                         4573   \n",
       "2  122 WEST   27 STREET MANHATTAN 10001                          698   \n",
       "\n",
       "     Borough Primary Property Type - Self Selected  ENERGY STAR Score  \\\n",
       "0  MANHATTAN                                 Hotel                 31   \n",
       "1  MANHATTAN                                Office                 20   \n",
       "2  MANHATTAN                                Office                 78   \n",
       "\n",
       "   Municipally Supplied Potable Water - Indoor Intensity (gal/ft²)  \n",
       "0                                                 56                \n",
       "1                                                  0                \n",
       "2                                                  0                "
      ]
     },
     "execution_count": 854,
     "metadata": {},
     "output_type": "execute_result"
    }
   ],
   "source": [
    "# Desgin of the field \"Addresses\"\n",
    "EnergyWater['Zip Code'].fillna(0,inplace=True)\n",
    "\n",
    "# Converting the different elements of the address (ZipCode, StreetNumber, StreetName and Borough]\n",
    "# into char in oder to concatenate them\n",
    "\n",
    "ZipCode = EnergyWater['Zip Code'].apply(lambda x: str(np.int(x)))\n",
    "StreetNumber = EnergyWater['Street Number'].fillna(0).apply(lambda x: str(x))\n",
    "StreetName = EnergyWater['Street Name'].fillna(0).apply(lambda x: str(x))\n",
    "Borough = EnergyWater['Borough'].fillna(0).apply(lambda x: str(x))\n",
    "\n",
    "Adr = [(StreetNumber[i].strip() + ' ' + StreetName[i].strip()+ ' ' \\\n",
    "        + Borough[i].strip()+ ' ' +ZipCode[i].strip()).strip()   for i in range(len(StreetName))]\n",
    "\n",
    "# Creating a new column \"Addresses\" \n",
    "EnergyWater['Addresses'] = Adr\n",
    "\n",
    "# We are interested by 'Street Number', 'Street Name','Borough','Zip Code', \n",
    "# 'ENERGY STAR Score', and ''Municipally Supplied Potable Water - Indoor Intensity (gal/ft²)'\n",
    "# We duplicate the Borough (in Addresses and Borough columns) because the column Addresses will be used\n",
    "# to find the GPS coordinates and the column Borough will be used to filter the collection to select\n",
    "# the borough of Manhanttan \n",
    "EW_features_of_interest =['Addresses','Total GHG Emissions(MtCO2e)', \\\n",
    "                          'Borough',\\\n",
    "                          'Primary Property Type - Self Selected','ENERGY STAR Score', \\\n",
    "                          'Municipally Supplied Potable Water - Indoor Intensity (gal/ft²)']\n",
    "\n",
    "EnergyWater_useful = EnergyWater[EW_features_of_interest]\n",
    "\n",
    "EnergyWater_useful.head(3)"
   ]
  },
  {
   "cell_type": "markdown",
   "metadata": {},
   "source": [
    "### We will store know the dataframe EnergyWater_interest as a collection into the MongoDB database NY"
   ]
  },
  {
   "cell_type": "code",
   "execution_count": 855,
   "metadata": {
    "collapsed": false
   },
   "outputs": [],
   "source": [
    "## If EnergyWaterMDB exist delete it\n",
    "if db.EnergyWaterMDB.count() != 0 : \n",
    "    db.drop_collection('EnergyWaterMDB')\n",
    "else:\n",
    "    # Convert the dataframe of interest\n",
    "    data_json = json.loads(EnergyWater_useful.to_json(orient='records'))\n",
    "    db.EnergyWaterMDB.insert_many(data_json)"
   ]
  },
  {
   "cell_type": "markdown",
   "metadata": {},
   "source": [
    "### First collection: EnergyWaterMDB"
   ]
  },
  {
   "cell_type": "code",
   "execution_count": 856,
   "metadata": {
    "collapsed": false
   },
   "outputs": [
    {
     "data": {
      "text/plain": [
       "[u'HealthMDB',\n",
       " u'Subway_StationsMDB',\n",
       " u'HospitalInterestMDB',\n",
       " u'EnergyWaterMDB']"
      ]
     },
     "execution_count": 856,
     "metadata": {},
     "output_type": "execute_result"
    }
   ],
   "source": [
    "db.collection_names()"
   ]
  },
  {
   "cell_type": "markdown",
   "metadata": {},
   "source": [
    "### b. Hospitals locations and type"
   ]
  },
  {
   "cell_type": "code",
   "execution_count": 813,
   "metadata": {
    "collapsed": false
   },
   "outputs": [
    {
     "name": "stdout",
     "output_type": "stream",
     "text": [
      "Facility Type\n",
      "Borough\n",
      "Facility Name\n",
      "Cross Streets\n",
      "Phone\n",
      "Location 1\n"
     ]
    }
   ],
   "source": [
    "Health = pd.read_csv(\"Health_and_Hospitals_Corporation__HHC__Facilities.csv\")\n",
    "for i in Health.columns.values: print(i)"
   ]
  },
  {
   "cell_type": "markdown",
   "metadata": {},
   "source": [
    "We can see that the column \"Location 1\" is in a non convenient format. Hence, we will process it\n"
   ]
  },
  {
   "cell_type": "code",
   "execution_count": 816,
   "metadata": {
    "collapsed": false
   },
   "outputs": [
    {
     "data": {
      "text/plain": [
       "0    79 01\\nElmhurst, NY 11373\\n(40.73871040256307,...\n",
       "1    227 Madison Street\\nNew York, NY 10002\\n(40.71...\n",
       "Name: Location 1, dtype: object"
      ]
     },
     "execution_count": 816,
     "metadata": {},
     "output_type": "execute_result"
    }
   ],
   "source": [
    "Health = pd.read_csv(\"Health_and_Hospitals_Corporation__HHC__Facilities.csv\")\n",
    "Health['Location 1'].head(2)"
   ]
  },
  {
   "cell_type": "code",
   "execution_count": 817,
   "metadata": {
    "collapsed": false
   },
   "outputs": [
    {
     "data": {
      "text/html": [
       "<div>\n",
       "<table border=\"1\" class=\"dataframe\">\n",
       "  <thead>\n",
       "    <tr style=\"text-align: right;\">\n",
       "      <th></th>\n",
       "      <th>Facility Type</th>\n",
       "      <th>Borough</th>\n",
       "      <th>Facility Name</th>\n",
       "      <th>Addresses</th>\n",
       "      <th>GPScoord</th>\n",
       "    </tr>\n",
       "  </thead>\n",
       "  <tbody>\n",
       "    <tr>\n",
       "      <th>0</th>\n",
       "      <td>Child Health Center</td>\n",
       "      <td>Queens</td>\n",
       "      <td>Elmhurst Hospital Center</td>\n",
       "      <td>79 01 Elmhurst, NY 11373</td>\n",
       "      <td>(40.73871040256307, -73.87835115518163)</td>\n",
       "    </tr>\n",
       "    <tr>\n",
       "      <th>1</th>\n",
       "      <td>Nursing Home</td>\n",
       "      <td>Manhattan</td>\n",
       "      <td>Gouverneur Healthcare Services</td>\n",
       "      <td>227 Madison Street New York, NY 10002</td>\n",
       "      <td>(40.712841397447676, -73.98759853472393)</td>\n",
       "    </tr>\n",
       "    <tr>\n",
       "      <th>2</th>\n",
       "      <td>Nursing Home</td>\n",
       "      <td>Manhattan</td>\n",
       "      <td>Coler-Goldwater Specialty Hospital and Nursing...</td>\n",
       "      <td>1 Main St Roosevelt Island New York, NY 10044</td>\n",
       "      <td>(40.76197648622593, -73.94999967494499)</td>\n",
       "    </tr>\n",
       "  </tbody>\n",
       "</table>\n",
       "</div>"
      ],
      "text/plain": [
       "         Facility Type    Borough  \\\n",
       "0  Child Health Center     Queens   \n",
       "1         Nursing Home  Manhattan   \n",
       "2         Nursing Home  Manhattan   \n",
       "\n",
       "                                       Facility Name  \\\n",
       "0                           Elmhurst Hospital Center   \n",
       "1                     Gouverneur Healthcare Services   \n",
       "2  Coler-Goldwater Specialty Hospital and Nursing...   \n",
       "\n",
       "                                       Addresses  \\\n",
       "0                       79 01 Elmhurst, NY 11373   \n",
       "1          227 Madison Street New York, NY 10002   \n",
       "2  1 Main St Roosevelt Island New York, NY 10044   \n",
       "\n",
       "                                   GPScoord  \n",
       "0   (40.73871040256307, -73.87835115518163)  \n",
       "1  (40.712841397447676, -73.98759853472393)  \n",
       "2   (40.76197648622593, -73.94999967494499)  "
      ]
     },
     "execution_count": 817,
     "metadata": {},
     "output_type": "execute_result"
    }
   ],
   "source": [
    "Hospt_address = []   # address\n",
    "Hospt_gps_coordinate = []\n",
    "temp_var = Health['Location 1'].apply(lambda x : x.split('\\n'))\n",
    "Hospt_address=[i[0] +' '+ i[1] for i in temp_var]\n",
    "\n",
    "Hospt_gps_coordinate =[i[2] for i in tt]\n",
    "\n",
    "\n",
    "Health['Addresses']=pd.DataFrame(Hospt_adress)\n",
    "Health['GPScoord']=pd.DataFrame(Hospt_gps)\n",
    "Health_Features_to_drop =['Location 1','Cross Streets','Phone']\n",
    "Health_useful = Health.drop(Health_Features_to_drop, axis=1)\n",
    "Health_useful.head(3)"
   ]
  },
  {
   "cell_type": "code",
   "execution_count": 818,
   "metadata": {
    "collapsed": false
   },
   "outputs": [],
   "source": [
    "## If EnergyWaterMDB exist delete it\n",
    "if db.HealthMDB.count() != 0 : \n",
    "    db.drop_collection('HealthMDB')\n",
    "else:\n",
    "    # Convert the dataframe of interest\n",
    "    data_json = json.loads(Health_useful.to_json(orient='records'))\n",
    "    db.HealthMDB.insert_many(data_json)"
   ]
  },
  {
   "cell_type": "markdown",
   "metadata": {},
   "source": [
    "### Second collection: HealthMDB\n"
   ]
  },
  {
   "cell_type": "code",
   "execution_count": 820,
   "metadata": {
    "collapsed": false
   },
   "outputs": [
    {
     "data": {
      "text/plain": [
       "[u'HealthMDB', u'EnergyWaterMDB']"
      ]
     },
     "execution_count": 820,
     "metadata": {},
     "output_type": "execute_result"
    }
   ],
   "source": [
    "db.collection_names()"
   ]
  },
  {
   "cell_type": "markdown",
   "metadata": {},
   "source": [
    "### d. Subway stations\n",
    "This is a geojson file which requires geopandas to read it in pyhton"
   ]
  },
  {
   "cell_type": "code",
   "execution_count": 821,
   "metadata": {
    "collapsed": false
   },
   "outputs": [],
   "source": [
    "Subway_Stations = gp.read_file(\"Subway Stations.geojson\")"
   ]
  },
  {
   "cell_type": "markdown",
   "metadata": {},
   "source": [
    "### We want to extract GPS coordinates from the Geometry column. To do so, we implemented a function getGPS"
   ]
  },
  {
   "cell_type": "code",
   "execution_count": 822,
   "metadata": {
    "collapsed": false
   },
   "outputs": [],
   "source": [
    "def getGPS(p):\n",
    "    return (p.x, p.y)"
   ]
  },
  {
   "cell_type": "code",
   "execution_count": 823,
   "metadata": {
    "collapsed": false
   },
   "outputs": [],
   "source": [
    "cs = Subway_Stations['geometry'].centroid\n",
    "Subway_Stations['gpsSub'] = map(getGPS, cs)\n",
    "Subway_Stations_df = pd.DataFrame(Subway_Stations)\n",
    "Subway_Stations_useful = Subway_Stations_df.drop(['geometry','url'],axis=1)"
   ]
  },
  {
   "cell_type": "code",
   "execution_count": 760,
   "metadata": {
    "collapsed": false
   },
   "outputs": [
    {
     "data": {
      "text/html": [
       "<div>\n",
       "<table border=\"1\" class=\"dataframe\">\n",
       "  <thead>\n",
       "    <tr style=\"text-align: right;\">\n",
       "      <th></th>\n",
       "      <th>line</th>\n",
       "      <th>name</th>\n",
       "      <th>gpsSub</th>\n",
       "    </tr>\n",
       "  </thead>\n",
       "  <tbody>\n",
       "    <tr>\n",
       "      <th>0</th>\n",
       "      <td>B-D-F-M</td>\n",
       "      <td>W 4th St - Washington Sq (Lower)</td>\n",
       "      <td>(-74.0003081471, 40.7322548265)</td>\n",
       "    </tr>\n",
       "    <tr>\n",
       "      <th>1</th>\n",
       "      <td>6-6 Express</td>\n",
       "      <td>Buhre Ave</td>\n",
       "      <td>(-73.8325689992, 40.8468103326)</td>\n",
       "    </tr>\n",
       "    <tr>\n",
       "      <th>2</th>\n",
       "      <td>4-6-6 Express</td>\n",
       "      <td>51st St</td>\n",
       "      <td>(-73.9719200001, 40.7571073331)</td>\n",
       "    </tr>\n",
       "  </tbody>\n",
       "</table>\n",
       "</div>"
      ],
      "text/plain": [
       "            line                              name  \\\n",
       "0        B-D-F-M  W 4th St - Washington Sq (Lower)   \n",
       "1    6-6 Express                         Buhre Ave   \n",
       "2  4-6-6 Express                           51st St   \n",
       "\n",
       "                            gpsSub  \n",
       "0  (-74.0003081471, 40.7322548265)  \n",
       "1  (-73.8325689992, 40.8468103326)  \n",
       "2  (-73.9719200001, 40.7571073331)  "
      ]
     },
     "execution_count": 760,
     "metadata": {},
     "output_type": "execute_result"
    }
   ],
   "source": [
    "Subway_Stations_useful.head(3)"
   ]
  },
  {
   "cell_type": "code",
   "execution_count": 825,
   "metadata": {
    "collapsed": false
   },
   "outputs": [],
   "source": [
    "if db.Subway_StationsMDB.count() != 0 : \n",
    "    db.drop_collection('Subway_StationsMDB')\n",
    "else:\n",
    "    data_json = json.loads(Subway_Stations_useful.to_json(orient='records'))\n",
    "    db.Subway_StationsMDB.insert_many(data_json)"
   ]
  },
  {
   "cell_type": "markdown",
   "metadata": {},
   "source": [
    "### Third collection: Subway_StationsMDB"
   ]
  },
  {
   "cell_type": "code",
   "execution_count": 826,
   "metadata": {
    "collapsed": false
   },
   "outputs": [
    {
     "data": {
      "text/plain": [
       "[u'HealthMDB', u'Subway_StationsMDB', u'EnergyWaterMDB']"
      ]
     },
     "execution_count": 826,
     "metadata": {},
     "output_type": "execute_result"
    }
   ],
   "source": [
    "db.collection_names()"
   ]
  },
  {
   "cell_type": "markdown",
   "metadata": {},
   "source": [
    "## Queries on EnergyWaterMDB to find a first set of interesting addresses\n",
    "\n",
    "These queries are driven by three mains objectives:\n",
    "* Located in the borough Manhattan \n",
    "* The Primary Property Type is: \"Multifamily Housing\"\n",
    "* ENERGY STAR Score > 75 (This value is the threshold to get the certification according this link: [www.energystar.gov/](https://www.energystar.gov/buildings/facility-owners-and-managers/existing-buildings/use-portfolio-manager/understand-metrics/how-1-100)\n",
    "* The total of CO² emission (Total GHG Emissions(MtCO2e)) is low: less than 300 MtCO2e\n",
    "\n",
    "\n"
   ]
  },
  {
   "cell_type": "code",
   "execution_count": 857,
   "metadata": {
    "collapsed": true
   },
   "outputs": [],
   "source": [
    "query_Home_Energy_target = {'Borough':'MANHATTAN',\\\n",
    "                            'ENERGY STAR Score':{'$gt' : 75},\\\n",
    "                            'Primary Property Type - Self Selected':'Multifamily Housing',\\\n",
    "                            'Total GHG Emissions(MtCO2e)':{'$lt' : 300}}\n"
   ]
  },
  {
   "cell_type": "markdown",
   "metadata": {},
   "source": [
    "### A first set of addresses of interest"
   ]
  },
  {
   "cell_type": "code",
   "execution_count": 858,
   "metadata": {
    "collapsed": false
   },
   "outputs": [
    {
     "data": {
      "text/plain": [
       "171"
      ]
     },
     "execution_count": 858,
     "metadata": {},
     "output_type": "execute_result"
    }
   ],
   "source": [
    "db.EnergyWaterMDB.find(query_Home_Energy_target).count()"
   ]
  },
  {
   "cell_type": "markdown",
   "metadata": {},
   "source": [
    "### Let us compute the GPS coordinate of targeted houses (according to the criteria explicited above).  <span style=\"color: blue\">This can take a wile "
   ]
  },
  {
   "cell_type": "code",
   "execution_count": 863,
   "metadata": {
    "collapsed": false
   },
   "outputs": [],
   "source": [
    "query_Home_Energy_target = {'Borough':'MANHATTAN',\\\n",
    "                            'ENERGY STAR Score':{'$gt' : 75},\\\n",
    "                            'Primary Property Type - Self Selected':'Multifamily Housing',\\\n",
    "                            'Total GHG Emissions(MtCO2e)':{'$lt' : 300}}\n",
    "\n",
    "# Adding the field \"gps\" to the EnergyWaterMDB\n",
    "# Some of the addresses are not resolved by the api geopy so we arbitrary \n",
    "# gave a null pair (0,0) of coordinates\n",
    "\n",
    "from geopy.geocoders import Nominatim\n",
    "geolocator = Nominatim()\n",
    "gps_list = list()\n",
    "for i in db.EnergyWaterMDB.find(query_Home_Energy_target):\n",
    "    location = geolocator.geocode(i['Addresses'])\n",
    "\n",
    "    if location is None:\n",
    "        gps_i = (0,0)\n",
    "    else:\n",
    "        gps_i = (location.longitude,location.latitude)\n",
    "    #Updating the EnergyWaterMDB collection\n",
    "    gps_list.append(gps_i)\n",
    "    db.EnergyWaterMDB.update_one( {\"_id\":i[\"_id\"]}, {'$set': {'GPScoord': gps_i}})"
   ]
  },
  {
   "cell_type": "markdown",
   "metadata": {},
   "source": [
    "### Remove all the documents that are not of interest"
   ]
  },
  {
   "cell_type": "code",
   "execution_count": 861,
   "metadata": {
    "collapsed": false
   },
   "outputs": [],
   "source": [
    "for c in db.EnergyWaterMDB.find({'GPScoord' : { '$exists': False}}):\n",
    "    db.EnergyWaterMDB.delete_one(c)"
   ]
  },
  {
   "cell_type": "code",
   "execution_count": 862,
   "metadata": {
    "collapsed": false
   },
   "outputs": [
    {
     "data": {
      "text/plain": [
       "171"
      ]
     },
     "execution_count": 862,
     "metadata": {},
     "output_type": "execute_result"
    }
   ],
   "source": [
    "db.EnergyWaterMDB.find().count()"
   ]
  },
  {
   "cell_type": "markdown",
   "metadata": {},
   "source": [
    "## Queries about the types and locations of targeted hospitals\n",
    "* The **type** of hospital that interest us are: **\"Acute Care Hospital\" and \"Diagnostic & Treatment Center\"**\n",
    "* Moreover they must be **located in Manhattan**.\n",
    "\n",
    "These queries lead to a set of 5 Hospitals,which are then stored them in a collection HospitalInterestMDB"
   ]
  },
  {
   "cell_type": "code",
   "execution_count": 864,
   "metadata": {
    "collapsed": false
   },
   "outputs": [
    {
     "data": {
      "text/html": [
       "<div>\n",
       "<table border=\"1\" class=\"dataframe\">\n",
       "  <thead>\n",
       "    <tr style=\"text-align: right;\">\n",
       "      <th></th>\n",
       "      <th>Adresses</th>\n",
       "      <th>GPS</th>\n",
       "      <th>HospitalName</th>\n",
       "    </tr>\n",
       "  </thead>\n",
       "  <tbody>\n",
       "    <tr>\n",
       "      <th>0</th>\n",
       "      <td>227 Madison Street New York, NY 10002</td>\n",
       "      <td>(40.712841397447676, -73.98759853472393)</td>\n",
       "      <td>Gouverneur Healthcare Services</td>\n",
       "    </tr>\n",
       "    <tr>\n",
       "      <th>1</th>\n",
       "      <td>462 First Avenue New York, NY 10016</td>\n",
       "      <td>(40.73962320748018, -73.97657284664467)</td>\n",
       "      <td>Bellevue Hospital Center</td>\n",
       "    </tr>\n",
       "    <tr>\n",
       "      <th>2</th>\n",
       "      <td>506 Lenox Avenue New York, NY 10037</td>\n",
       "      <td>(40.814275217501645, -73.9406028312914)</td>\n",
       "      <td>Harlem Hospital Center</td>\n",
       "    </tr>\n",
       "    <tr>\n",
       "      <th>3</th>\n",
       "      <td>215 125 Street New York, NY 10027</td>\n",
       "      <td>(40.809338651191524, -73.94919748407278)</td>\n",
       "      <td>Renaissance Health Care Network Diagnostic &amp; T...</td>\n",
       "    </tr>\n",
       "    <tr>\n",
       "      <th>4</th>\n",
       "      <td>1901 First Avenue New York, NY 10029</td>\n",
       "      <td>(40.784557024104835, -73.9437956536432)</td>\n",
       "      <td>Metropolitan Hospital Center</td>\n",
       "    </tr>\n",
       "  </tbody>\n",
       "</table>\n",
       "</div>"
      ],
      "text/plain": [
       "                                Adresses  \\\n",
       "0  227 Madison Street New York, NY 10002   \n",
       "1    462 First Avenue New York, NY 10016   \n",
       "2    506 Lenox Avenue New York, NY 10037   \n",
       "3      215 125 Street New York, NY 10027   \n",
       "4   1901 First Avenue New York, NY 10029   \n",
       "\n",
       "                                        GPS  \\\n",
       "0  (40.712841397447676, -73.98759853472393)   \n",
       "1   (40.73962320748018, -73.97657284664467)   \n",
       "2   (40.814275217501645, -73.9406028312914)   \n",
       "3  (40.809338651191524, -73.94919748407278)   \n",
       "4   (40.784557024104835, -73.9437956536432)   \n",
       "\n",
       "                                        HospitalName  \n",
       "0                     Gouverneur Healthcare Services  \n",
       "1                           Bellevue Hospital Center  \n",
       "2                             Harlem Hospital Center  \n",
       "3  Renaissance Health Care Network Diagnostic & T...  \n",
       "4                       Metropolitan Hospital Center  "
      ]
     },
     "execution_count": 864,
     "metadata": {},
     "output_type": "execute_result"
    }
   ],
   "source": [
    "hospital_query_type = {\"$or\":[{'Facility Type':'Acute Care Hospital'},\\\n",
    "                          {'Facility Type':'Diagnostic & Treatment Center'}]}\n",
    "hospital_query_location = {'Borough':'Manhattan'}\n",
    "\n",
    "hospital_query = {'$and':[hospital_query_type,hospital_query_location]}\n",
    "\n",
    "cursor_Hospital = db.HealthMDB.find(hospital_query)\n",
    "\n",
    "hospitals_of_interest_name = []\n",
    "hospitals_of_interest_coord = []\n",
    "hospitals_of_interest_Ad = []\n",
    "\n",
    "for h in cursor_Hospital:\n",
    "    hospitals_of_interest_name.append(h['Facility Name'])\n",
    "    hospitals_of_interest_coord.append(h['GPScoord'])\n",
    "    hospitals_of_interest_Ad.append(h['Addresses'])\n",
    "hospital_of_interest=pd.DataFrame({'HospitalName':hospitals_of_interest_name,\\\n",
    "                                   'Adresses':hospitals_of_interest_Ad,\\\n",
    "                                   'GPS':hospitals_of_interest_coord})\n",
    "hospital_of_interest\n"
   ]
  },
  {
   "cell_type": "code",
   "execution_count": 865,
   "metadata": {
    "collapsed": false
   },
   "outputs": [
    {
     "data": {
      "text/plain": [
       "<pymongo.results.InsertManyResult at 0x7fece9222960>"
      ]
     },
     "execution_count": 865,
     "metadata": {},
     "output_type": "execute_result"
    }
   ],
   "source": [
    "## Storing the targeted Hospital\n",
    "hospital_of_interest=pd.DataFrame({'HospitalName':hospitals_of_interest_name,\\\n",
    "                                   'Addresses':hospitals_of_interest_Ad,\\\n",
    "                                   'GPScoord':hospitals_of_interest_coord})\n",
    "hospital_of_interest\n",
    "db.drop_collection('HospitalInterestMDB')\n",
    "data_json = json.loads(hospital_of_interest.to_json(orient='records'))\n",
    "db.HospitalInterestMDB.insert_many(data_json)"
   ]
  },
  {
   "cell_type": "markdown",
   "metadata": {},
   "source": [
    "### Fourth collection: HospitalInterestMDB"
   ]
  },
  {
   "cell_type": "code",
   "execution_count": 866,
   "metadata": {
    "collapsed": false
   },
   "outputs": [
    {
     "data": {
      "text/plain": [
       "[u'HealthMDB',\n",
       " u'Subway_StationsMDB',\n",
       " u'HospitalInterestMDB',\n",
       " u'EnergyWaterMDB']"
      ]
     },
     "execution_count": 866,
     "metadata": {},
     "output_type": "execute_result"
    }
   ],
   "source": [
    "db.collection_names()"
   ]
  },
  {
   "cell_type": "markdown",
   "metadata": {},
   "source": [
    "## Calculating the Distances between the targeted homes and the Hospitals & Subway Stations\n",
    "\n",
    "Geopy can compute geodesic distance between two points using the Vincenty distance or great-circle distance formulas. However, to reduce the runtime we decided to calculate this distance through a function that we implemented."
   ]
  },
  {
   "cell_type": "code",
   "execution_count": 867,
   "metadata": {
    "collapsed": false
   },
   "outputs": [],
   "source": [
    "# Function which compute the distance between two locations given their longitude and latitude\n",
    "from math import sin, cos, sqrt, atan2, radians\n",
    "# approximate radius of earth in km\n",
    "R = 6373.0\n",
    "def distance_two_locations(l1,l2):\n",
    "    \n",
    "    lat1 = radians(l1[1])\n",
    "    lon1 = radians(l1[0])\n",
    "    lat2 = radians(l2[1])\n",
    "    lon2 = radians(l2[0])\n",
    "    \n",
    "    dlon = lon2 - lon1\n",
    "    dlat = lat2 - lat1\n",
    "\n",
    "    a = sin(dlat / 2)**2 + cos(lat1) * cos(lat2) * sin(dlon / 2)**2\n",
    "    c = 2 * atan2(sqrt(a), sqrt(1 - a))\n",
    "\n",
    "    distance = R * c\n",
    "    return round(distance,2)\n"
   ]
  },
  {
   "cell_type": "markdown",
   "metadata": {},
   "source": [
    "### The goal of the next step is to compute the distance between the targeted Homes and  Hospitals. Then, we will store the result in a collection."
   ]
  },
  {
   "cell_type": "code",
   "execution_count": 869,
   "metadata": {
    "collapsed": false
   },
   "outputs": [
    {
     "data": {
      "text/plain": [
       "<pymongo.results.InsertManyResult at 0x7fecf65f6dc0>"
      ]
     },
     "execution_count": 869,
     "metadata": {},
     "output_type": "execute_result"
    }
   ],
   "source": [
    "Adr_home = []\n",
    "Adr_hosp = []\n",
    "Dist_to_Home = []\n",
    "gps_home_list = []\n",
    "gps_hosp_list = []\n",
    "for e_doc in db.EnergyWaterMDB.find():\n",
    "    for h_doc in db.HospitalInterestMDB.find():\n",
    "        gps_home = e_doc['GPScoord']\n",
    "        gps_hospital = h_doc['GPScoord']\n",
    "        # Reformatting gps coordinate to have the following format : tuple (longitude,latitude)\n",
    "        gps_hospital = (float(gps_hospital.split(',')[1][:-1]),float(gps_hospital.split(',')[0][1:]))\n",
    "        # Since the geopy library failed on the resolution of some postal addresses:\n",
    "        if (gps_home != [0,0]) & (gps_hospital!= [0,0]):\n",
    "            gps_home_list.append(gps_home)\n",
    "            gps_hosp_list.append(gps_hospital)\n",
    "            d = distance_two_locations(gps_home,gps_hospital)\n",
    "            Adr_home.append(e_doc['Addresses'])\n",
    "            Adr_hosp.append(h_doc['Addresses'])\n",
    "            Dist_to_Home.append(d)\n",
    "\n",
    "Home_Hospital = pd.DataFrame({'gpsHome':gps_home_list,'gpsHospital':gps_hosp_list,\\\n",
    "                              'HospitalName':h_doc['HospitalName'],'AddressHome':Adr_home,\\\n",
    "                              'AdressHospital':Adr_hosp,'DistHomeHosp':Dist_to_Home})\n",
    "\n",
    "# Selecting the interesting columns\n",
    "Home_Hospital = Home_Hospital[['AddressHome','gpsHome','gpsHospital','AdressHospital',\\\n",
    "                               'HospitalName','DistHomeHosp']]\n",
    "\n",
    "Home_Hospital = Home_Hospital.sort_values('DistHomeHosp')\n",
    "Home_Hospital.reset_index(drop=True, inplace=True)\n",
    "# if EnergyWaterMDB exist delete it\n",
    "db.drop_collection('HomeHospitalDistMDB')\n",
    "data_json = json.loads(Home_Hospital.to_json(orient='records'))\n",
    "db.Home_Hospital_Distance_MDB.insert_many(data_json)"
   ]
  },
  {
   "cell_type": "markdown",
   "metadata": {},
   "source": [
    "### Fifth collection: HospitalInterestMDB"
   ]
  },
  {
   "cell_type": "code",
   "execution_count": 871,
   "metadata": {
    "collapsed": false
   },
   "outputs": [
    {
     "data": {
      "text/plain": [
       "[u'HealthMDB',\n",
       " u'Subway_StationsMDB',\n",
       " u'Home_Hospital_Distance_MDB',\n",
       " u'HospitalInterestMDB',\n",
       " u'EnergyWaterMDB']"
      ]
     },
     "execution_count": 871,
     "metadata": {},
     "output_type": "execute_result"
    }
   ],
   "source": [
    "db.collection_names()"
   ]
  },
  {
   "cell_type": "markdown",
   "metadata": {},
   "source": [
    "### The goal of the next step is to compute the distance between the targeted Homes and the different subway stations. \n",
    "\n",
    "the maximal** distances between the homes of interest** and a **hospital and a subway station**  are respectively is **1 km and 500 meters**"
   ]
  },
  {
   "cell_type": "code",
   "execution_count": 872,
   "metadata": {
    "collapsed": false
   },
   "outputs": [
    {
     "data": {
      "text/plain": [
       "<pymongo.results.InsertManyResult at 0x7fece1ab0690>"
      ]
     },
     "execution_count": 872,
     "metadata": {},
     "output_type": "execute_result"
    }
   ],
   "source": [
    "Adr_home = []\n",
    "Dist_to_Home = []\n",
    "gps_home_list = []\n",
    "gps_sub_list = []\n",
    "Dist_to_Sub =[]\n",
    "Dist_to_Hosp =[]\n",
    "\n",
    "Home_Hospital = Home_Hospital[['AddressHome','gpsHome','gpsHospital','AdressHospital',\\\n",
    "                               'HospitalName','DistHomeHosp']]\n",
    "\n",
    "# Home close to a hospital with a distance less than 1km\n",
    "d_hospital_max = 1\n",
    "query_home = {'DistHomeHosp':{'$lt':d_hospital_max}}\n",
    "\n",
    "# Home close to a subway station with a distance less than 0.5km\n",
    "d_subway_max=0.5\n",
    "\n",
    "for e_doc in db.Home_Hospital_Distance_MDB.find(query_home):\n",
    "    for ss_doc in db.Subway_StationsMDB.find():\n",
    "        loc_home = e_doc['gpsHome']\n",
    "        loc_subw = ss_doc['gpsSub']\n",
    "        d = distance_two_locations(loc_home,loc_subw)\n",
    "        if d <= d_subway_max:\n",
    "            Adr_home.append(e_doc['AddressHome'])\n",
    "            Dist_to_Hosp.append(e_doc['DistHomeHosp'])\n",
    "\n",
    "            gps_home_list.append(tuple(loc_home))\n",
    "            gps_sub_list.append(tuple(loc_subw))\n",
    "            Dist_to_Sub.append(d)\n",
    "\n",
    "Home_Dist_Subway_Hospital= pd.DataFrame({'DistHosp':Dist_to_Hosp,'AdressHome':Adr_home,\\\n",
    "                                         'gpsHome':gps_home_list,'gpsSubway':gps_sub_list,\\\n",
    "                                         'DistSubway':Dist_to_Sub})\n",
    "\n",
    "Home_Dist_Subway_Hospital = Home_Dist_Subway_Hospital[['AdressHome','gpsHome','gpsSubway',\\\n",
    "                                                       'DistHosp','DistSubway']]\n",
    "\n",
    "Home_Dist_Subway_Hospital=Home_Dist_Subway_Hospital.sort_values(['DistHosp','DistSubway'])\n",
    "\n",
    "Home_Dist_Subway_Hospital.reset_index(drop=True, inplace=True)\n",
    "\n",
    "data_json = json.loads(Home_Dist_Subway_Hospital.to_json(orient='records'))\n",
    "db.Home_Dist_Subway_Hospital_MDB.insert_many(data_json)"
   ]
  },
  {
   "cell_type": "markdown",
   "metadata": {},
   "source": [
    "### Fifth collection: Home_Dist_Subway_Hospital_MDB"
   ]
  },
  {
   "cell_type": "code",
   "execution_count": 881,
   "metadata": {
    "collapsed": false
   },
   "outputs": [
    {
     "data": {
      "text/plain": [
       "[u'HealthMDB',\n",
       " u'Subway_StationsMDB',\n",
       " u'Home_Hospital_Distance_MDB',\n",
       " u'Home_Dist_Subway_Hospital_MDB',\n",
       " u'HospitalInterestMDB',\n",
       " u'EnergyWaterMDB']"
      ]
     },
     "execution_count": 881,
     "metadata": {},
     "output_type": "execute_result"
    }
   ],
   "source": [
    "db.collection_names()"
   ]
  },
  {
   "cell_type": "markdown",
   "metadata": {},
   "source": [
    "### The list of the best place to leave according to our criteria. The list is sorted by ascending order of the distance to a hospital (first) and to a subway station (second). Hence the first address \"272 CHERRY STREET MANHATTAN 10002\" is the one which is the closest to a hospital."
   ]
  },
  {
   "cell_type": "code",
   "execution_count": 882,
   "metadata": {
    "collapsed": false
   },
   "outputs": [
    {
     "data": {
      "text/plain": [
       "0         272 CHERRY STREET MANHATTAN 10002\n",
       "1    320 ST NICHOLAS AVENUE MANHATTAN 10027\n",
       "2       95 LEXINGTON AVENUE MANHATTAN 10016\n",
       "5     110 MORNINGSIDE DRIVE MANHATTAN 10027\n",
       "6      90 MORNINGSIDE DRIVE MANHATTAN 10027\n",
       "7          1128 PARK AVENUE MANHATTAN 10128\n",
       "Name: AdressHome, dtype: object"
      ]
     },
     "execution_count": 882,
     "metadata": {},
     "output_type": "execute_result"
    }
   ],
   "source": [
    "BestPlaceToLive = Home_Dist_Subway_Hospital.AdressHome.drop_duplicates()\n",
    "BestPlaceToLive"
   ]
  },
  {
   "cell_type": "markdown",
   "metadata": {},
   "source": [
    "### Let us summarize the result using a \"group by\" AdressHome"
   ]
  },
  {
   "cell_type": "code",
   "execution_count": 883,
   "metadata": {
    "collapsed": false
   },
   "outputs": [
    {
     "data": {
      "text/plain": [
       "[{u'AdressHome': u'272 CHERRY STREET MANHATTAN 10002', u'count': 1.0},\n",
       " {u'AdressHome': u'320 ST NICHOLAS AVENUE MANHATTAN 10027', u'count': 1.0},\n",
       " {u'AdressHome': u'95 LEXINGTON AVENUE MANHATTAN 10016', u'count': 3.0},\n",
       " {u'AdressHome': u'110 MORNINGSIDE DRIVE MANHATTAN 10027', u'count': 1.0},\n",
       " {u'AdressHome': u'90 MORNINGSIDE DRIVE MANHATTAN 10027', u'count': 1.0},\n",
       " {u'AdressHome': u'1128 PARK AVENUE MANHATTAN 10128', u'count': 2.0}]"
      ]
     },
     "execution_count": 883,
     "metadata": {},
     "output_type": "execute_result"
    }
   ],
   "source": [
    "# The reducer function\n",
    "from bson.code import Code\n",
    "reducer = Code(\"\"\"\n",
    "                function(obj, prev){\n",
    "                  prev.count++;\n",
    "                }\n",
    "                \"\"\")\n",
    "\n",
    "results = db.Home_Dist_Subway_Hospital_MDB.group(key={\"AdressHome\":1},\\\n",
    "                                                     condition={}, initial={\"count\": 0}, reduce=reducer)\n",
    "results"
   ]
  },
  {
   "cell_type": "code",
   "execution_count": 884,
   "metadata": {
    "collapsed": false
   },
   "outputs": [
    {
     "data": {
      "text/plain": [
       "[u'272 CHERRY STREET MANHATTAN 10002',\n",
       " u'320 ST NICHOLAS AVENUE MANHATTAN 10027',\n",
       " u'95 LEXINGTON AVENUE MANHATTAN 10016',\n",
       " u'110 MORNINGSIDE DRIVE MANHATTAN 10027',\n",
       " u'90 MORNINGSIDE DRIVE MANHATTAN 10027',\n",
       " u'1128 PARK AVENUE MANHATTAN 10128']"
      ]
     },
     "execution_count": 884,
     "metadata": {},
     "output_type": "execute_result"
    }
   ],
   "source": [
    "selected_streets = db.Home_Dist_Subway_Hospital_MDB.find({}).distinct('AdressHome')\n",
    "selected_streets"
   ]
  },
  {
   "cell_type": "markdown",
   "metadata": {},
   "source": [
    "### Let us summarize the result using a \"group by\" AdressHome and sorting according to the number of occurences. Indeed, the home with the greatest number of occurences provide more choice in terms of subway stations and or hospital."
   ]
  },
  {
   "cell_type": "code",
   "execution_count": 885,
   "metadata": {
    "collapsed": false
   },
   "outputs": [
    {
     "name": "stdout",
     "output_type": "stream",
     "text": [
      "[{u'_id': u'95 LEXINGTON AVENUE MANHATTAN 10016', u'count': 3},\n",
      " {u'_id': u'1128 PARK AVENUE MANHATTAN 10128', u'count': 2},\n",
      " {u'_id': u'90 MORNINGSIDE DRIVE MANHATTAN 10027', u'count': 1},\n",
      " {u'_id': u'320 ST NICHOLAS AVENUE MANHATTAN 10027', u'count': 1},\n",
      " {u'_id': u'272 CHERRY STREET MANHATTAN 10002', u'count': 1},\n",
      " {u'_id': u'110 MORNINGSIDE DRIVE MANHATTAN 10027', u'count': 1}]\n"
     ]
    }
   ],
   "source": [
    "from bson.son import SON\n",
    "pipeline = [\n",
    "    {\"$group\": {\"_id\": \"$AdressHome\", \"count\": {\"$sum\": 1}}},\n",
    "    {\"$sort\": SON([(\"count\", -1), (\"_id\", -1)])}\n",
    " ]\n",
    "pprint.pprint(list(db.Home_Dist_Subway_Hospital_MDB.aggregate(pipeline)))"
   ]
  }
 ],
 "metadata": {
  "anaconda-cloud": {},
  "kernelspec": {
   "display_name": "Python [conda env:python2]",
   "language": "python",
   "name": "conda-env-python2-py"
  },
  "language_info": {
   "codemirror_mode": {
    "name": "ipython",
    "version": 2
   },
   "file_extension": ".py",
   "mimetype": "text/x-python",
   "name": "python",
   "nbconvert_exporter": "python",
   "pygments_lexer": "ipython2",
   "version": "2.7.12"
  }
 },
 "nbformat": 4,
 "nbformat_minor": 1
}